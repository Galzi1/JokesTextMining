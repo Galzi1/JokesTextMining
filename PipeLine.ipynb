{
 "cells": [
  {
   "cell_type": "markdown",
   "metadata": {},
   "source": [
    "# Text Mining  pipeline"
   ]
  },
  {
   "cell_type": "markdown",
   "metadata": {},
   "source": [
    "### let's import a few free-open source tools to our convenience "
   ]
  },
  {
   "cell_type": "code",
   "execution_count": 2,
   "metadata": {},
   "outputs": [],
   "source": [
    "import nltk\n",
    "import pandas as pd\n",
    "import re\n",
    "from sklearn.feature_extraction.text import CountVectorizer\n",
    "import string\n",
    "\n",
    "stopwords = nltk.corpus.stopwords.words('english')\n",
    "ps = nltk.PorterStemmer()"
   ]
  },
  {
   "cell_type": "markdown",
   "metadata": {},
   "source": [
    "### Read in & clean text"
   ]
  },
  {
   "cell_type": "code",
   "execution_count": 3,
   "metadata": {},
   "outputs": [
    {
     "data": {
      "text/html": [
       "<div>\n",
       "<style scoped>\n",
       "    .dataframe tbody tr th:only-of-type {\n",
       "        vertical-align: middle;\n",
       "    }\n",
       "\n",
       "    .dataframe tbody tr th {\n",
       "        vertical-align: top;\n",
       "    }\n",
       "\n",
       "    .dataframe thead th {\n",
       "        text-align: right;\n",
       "    }\n",
       "</style>\n",
       "<table border=\"1\" class=\"dataframe\">\n",
       "  <thead>\n",
       "    <tr style=\"text-align: right;\">\n",
       "      <th></th>\n",
       "      <th>body</th>\n",
       "      <th>category</th>\n",
       "      <th>id</th>\n",
       "      <th>rating</th>\n",
       "    </tr>\n",
       "  </thead>\n",
       "  <tbody>\n",
       "    <tr>\n",
       "      <th>0</th>\n",
       "      <td>A blackjack dealer and a player with a thirtee...</td>\n",
       "      <td>Children</td>\n",
       "      <td>1</td>\n",
       "      <td>2.63</td>\n",
       "    </tr>\n",
       "    <tr>\n",
       "      <th>1</th>\n",
       "      <td>At a dinner party, several of the guests were...</td>\n",
       "      <td>Blonde Jokes</td>\n",
       "      <td>2</td>\n",
       "      <td>2.57</td>\n",
       "    </tr>\n",
       "    <tr>\n",
       "      <th>2</th>\n",
       "      <td>One day this cop pulls over a blonde for spee...</td>\n",
       "      <td>Blonde Jokes</td>\n",
       "      <td>3</td>\n",
       "      <td>3.09</td>\n",
       "    </tr>\n",
       "    <tr>\n",
       "      <th>3</th>\n",
       "      <td>Three women are about to be executed for crim...</td>\n",
       "      <td>Blonde Jokes</td>\n",
       "      <td>4</td>\n",
       "      <td>4.10</td>\n",
       "    </tr>\n",
       "    <tr>\n",
       "      <th>4</th>\n",
       "      <td>A girl came skipping home FROM school one day...</td>\n",
       "      <td>Blonde Jokes</td>\n",
       "      <td>5</td>\n",
       "      <td>4.30</td>\n",
       "    </tr>\n",
       "    <tr>\n",
       "      <th>5</th>\n",
       "      <td>An airline captain was helping a new blonde f...</td>\n",
       "      <td>Military</td>\n",
       "      <td>6</td>\n",
       "      <td>3.23</td>\n",
       "    </tr>\n",
       "    <tr>\n",
       "      <th>6</th>\n",
       "      <td>A blonde and a brunette decided to rob a bank...</td>\n",
       "      <td>Blonde Jokes</td>\n",
       "      <td>7</td>\n",
       "      <td>4.00</td>\n",
       "    </tr>\n",
       "    <tr>\n",
       "      <th>7</th>\n",
       "      <td>A brunette, a redhead and a blonde walk into ...</td>\n",
       "      <td>Blonde Jokes</td>\n",
       "      <td>8</td>\n",
       "      <td>2.33</td>\n",
       "    </tr>\n",
       "    <tr>\n",
       "      <th>8</th>\n",
       "      <td>A blonde suspects her boyfriend of cheating o...</td>\n",
       "      <td>Blonde Jokes</td>\n",
       "      <td>9</td>\n",
       "      <td>3.77</td>\n",
       "    </tr>\n",
       "    <tr>\n",
       "      <th>9</th>\n",
       "      <td>One day a blonde comes out of the tanning sal...</td>\n",
       "      <td>Blonde Jokes</td>\n",
       "      <td>10</td>\n",
       "      <td>3.64</td>\n",
       "    </tr>\n",
       "  </tbody>\n",
       "</table>\n",
       "</div>"
      ],
      "text/plain": [
       "                                                body      category  id  rating\n",
       "0  A blackjack dealer and a player with a thirtee...      Children   1    2.63\n",
       "1   At a dinner party, several of the guests were...  Blonde Jokes   2    2.57\n",
       "2   One day this cop pulls over a blonde for spee...  Blonde Jokes   3    3.09\n",
       "3   Three women are about to be executed for crim...  Blonde Jokes   4    4.10\n",
       "4   A girl came skipping home FROM school one day...  Blonde Jokes   5    4.30\n",
       "5   An airline captain was helping a new blonde f...      Military   6    3.23\n",
       "6   A blonde and a brunette decided to rob a bank...  Blonde Jokes   7    4.00\n",
       "7   A brunette, a redhead and a blonde walk into ...  Blonde Jokes   8    2.33\n",
       "8   A blonde suspects her boyfriend of cheating o...  Blonde Jokes   9    3.77\n",
       "9   One day a blonde comes out of the tanning sal...  Blonde Jokes  10    3.64"
      ]
     },
     "execution_count": 3,
     "metadata": {},
     "output_type": "execute_result"
    }
   ],
   "source": [
    "import pandas as pd\n",
    "data = pd.read_json(\"stupidstuff.json\")\n",
    "data[0:10]"
   ]
  },
  {
   "cell_type": "markdown",
   "metadata": {},
   "source": [
    "### Feature eng."
   ]
  },
  {
   "cell_type": "code",
   "execution_count": 4,
   "metadata": {},
   "outputs": [],
   "source": [
    "def clean_text(text):\n",
    "    text = \"\".join([char.lower() for char in text if char not in string.punctuation])\n",
    "    return text\n",
    "\n",
    "data['text_no_punc_lower'] = data['body'].apply(lambda x: clean_text(x))"
   ]
  },
  {
   "cell_type": "code",
   "execution_count": 5,
   "metadata": {},
   "outputs": [
    {
     "data": {
      "text/html": [
       "<div>\n",
       "<style scoped>\n",
       "    .dataframe tbody tr th:only-of-type {\n",
       "        vertical-align: middle;\n",
       "    }\n",
       "\n",
       "    .dataframe tbody tr th {\n",
       "        vertical-align: top;\n",
       "    }\n",
       "\n",
       "    .dataframe thead th {\n",
       "        text-align: right;\n",
       "    }\n",
       "</style>\n",
       "<table border=\"1\" class=\"dataframe\">\n",
       "  <thead>\n",
       "    <tr style=\"text-align: right;\">\n",
       "      <th></th>\n",
       "      <th>body</th>\n",
       "      <th>category</th>\n",
       "      <th>id</th>\n",
       "      <th>rating</th>\n",
       "      <th>text_no_punc_lower</th>\n",
       "    </tr>\n",
       "  </thead>\n",
       "  <tbody>\n",
       "    <tr>\n",
       "      <th>0</th>\n",
       "      <td>A blackjack dealer and a player with a thirtee...</td>\n",
       "      <td>Children</td>\n",
       "      <td>1</td>\n",
       "      <td>2.63</td>\n",
       "      <td>a blackjack dealer and a player with a thirtee...</td>\n",
       "    </tr>\n",
       "    <tr>\n",
       "      <th>1</th>\n",
       "      <td>At a dinner party, several of the guests were...</td>\n",
       "      <td>Blonde Jokes</td>\n",
       "      <td>2</td>\n",
       "      <td>2.57</td>\n",
       "      <td>at a dinner party several of the guests were ...</td>\n",
       "    </tr>\n",
       "    <tr>\n",
       "      <th>2</th>\n",
       "      <td>One day this cop pulls over a blonde for spee...</td>\n",
       "      <td>Blonde Jokes</td>\n",
       "      <td>3</td>\n",
       "      <td>3.09</td>\n",
       "      <td>one day this cop pulls over a blonde for spee...</td>\n",
       "    </tr>\n",
       "    <tr>\n",
       "      <th>3</th>\n",
       "      <td>Three women are about to be executed for crim...</td>\n",
       "      <td>Blonde Jokes</td>\n",
       "      <td>4</td>\n",
       "      <td>4.10</td>\n",
       "      <td>three women are about to be executed for crim...</td>\n",
       "    </tr>\n",
       "    <tr>\n",
       "      <th>4</th>\n",
       "      <td>A girl came skipping home FROM school one day...</td>\n",
       "      <td>Blonde Jokes</td>\n",
       "      <td>5</td>\n",
       "      <td>4.30</td>\n",
       "      <td>a girl came skipping home from school one day...</td>\n",
       "    </tr>\n",
       "  </tbody>\n",
       "</table>\n",
       "</div>"
      ],
      "text/plain": [
       "                                                body      category  id  \\\n",
       "0  A blackjack dealer and a player with a thirtee...      Children   1   \n",
       "1   At a dinner party, several of the guests were...  Blonde Jokes   2   \n",
       "2   One day this cop pulls over a blonde for spee...  Blonde Jokes   3   \n",
       "3   Three women are about to be executed for crim...  Blonde Jokes   4   \n",
       "4   A girl came skipping home FROM school one day...  Blonde Jokes   5   \n",
       "\n",
       "   rating                                 text_no_punc_lower  \n",
       "0    2.63  a blackjack dealer and a player with a thirtee...  \n",
       "1    2.57   at a dinner party several of the guests were ...  \n",
       "2    3.09   one day this cop pulls over a blonde for spee...  \n",
       "3    4.10   three women are about to be executed for crim...  \n",
       "4    4.30   a girl came skipping home from school one day...  "
      ]
     },
     "execution_count": 5,
     "metadata": {},
     "output_type": "execute_result"
    }
   ],
   "source": [
    "data.head()"
   ]
  },
  {
   "cell_type": "code",
   "execution_count": 10,
   "metadata": {},
   "outputs": [
    {
     "data": {
      "text/html": [
       "<div>\n",
       "<style scoped>\n",
       "    .dataframe tbody tr th:only-of-type {\n",
       "        vertical-align: middle;\n",
       "    }\n",
       "\n",
       "    .dataframe tbody tr th {\n",
       "        vertical-align: top;\n",
       "    }\n",
       "\n",
       "    .dataframe thead th {\n",
       "        text-align: right;\n",
       "    }\n",
       "</style>\n",
       "<table border=\"1\" class=\"dataframe\">\n",
       "  <thead>\n",
       "    <tr style=\"text-align: right;\">\n",
       "      <th></th>\n",
       "      <th>body</th>\n",
       "      <th>category</th>\n",
       "      <th>id</th>\n",
       "      <th>rating</th>\n",
       "      <th>text_no_punc_lower</th>\n",
       "    </tr>\n",
       "  </thead>\n",
       "  <tbody>\n",
       "    <tr>\n",
       "      <th>0</th>\n",
       "      <td>A blackjack dealer and a player with a thirtee...</td>\n",
       "      <td>Children</td>\n",
       "      <td>1</td>\n",
       "      <td>2.63</td>\n",
       "      <td>[blackjack, dealer, player, thirteen, count, h...</td>\n",
       "    </tr>\n",
       "    <tr>\n",
       "      <th>1</th>\n",
       "      <td>At a dinner party, several of the guests were...</td>\n",
       "      <td>Blonde Jokes</td>\n",
       "      <td>2</td>\n",
       "      <td>2.57</td>\n",
       "      <td>[, dinner, party, several, guests, arguing, wh...</td>\n",
       "    </tr>\n",
       "    <tr>\n",
       "      <th>2</th>\n",
       "      <td>One day this cop pulls over a blonde for spee...</td>\n",
       "      <td>Blonde Jokes</td>\n",
       "      <td>3</td>\n",
       "      <td>3.09</td>\n",
       "      <td>[, one, day, cop, pulls, blonde, speeding, cop...</td>\n",
       "    </tr>\n",
       "    <tr>\n",
       "      <th>3</th>\n",
       "      <td>Three women are about to be executed for crim...</td>\n",
       "      <td>Blonde Jokes</td>\n",
       "      <td>4</td>\n",
       "      <td>4.10</td>\n",
       "      <td>[, three, women, executed, crimes, ones, brune...</td>\n",
       "    </tr>\n",
       "    <tr>\n",
       "      <th>4</th>\n",
       "      <td>A girl came skipping home FROM school one day...</td>\n",
       "      <td>Blonde Jokes</td>\n",
       "      <td>5</td>\n",
       "      <td>4.30</td>\n",
       "      <td>[, girl, came, skipping, home, school, one, da...</td>\n",
       "    </tr>\n",
       "  </tbody>\n",
       "</table>\n",
       "</div>"
      ],
      "text/plain": [
       "                                                body      category  id  \\\n",
       "0  A blackjack dealer and a player with a thirtee...      Children   1   \n",
       "1   At a dinner party, several of the guests were...  Blonde Jokes   2   \n",
       "2   One day this cop pulls over a blonde for spee...  Blonde Jokes   3   \n",
       "3   Three women are about to be executed for crim...  Blonde Jokes   4   \n",
       "4   A girl came skipping home FROM school one day...  Blonde Jokes   5   \n",
       "\n",
       "   rating                                 text_no_punc_lower  \n",
       "0    2.63  [blackjack, dealer, player, thirteen, count, h...  \n",
       "1    2.57  [, dinner, party, several, guests, arguing, wh...  \n",
       "2    3.09  [, one, day, cop, pulls, blonde, speeding, cop...  \n",
       "3    4.10  [, three, women, executed, crimes, ones, brune...  \n",
       "4    4.30  [, girl, came, skipping, home, school, one, da...  "
      ]
     },
     "execution_count": 10,
     "metadata": {},
     "output_type": "execute_result"
    }
   ],
   "source": [
    "def stopwords_cleaner(text):\n",
    "    tokens = re.split('\\W+', text)\n",
    "    text = [word for word in tokens if word not in stopwords]\n",
    "    return text\n",
    "\n",
    "data['text_no_punc_lower'] = data['text_no_punc_lower'].apply(stopwords_cleaner)\n",
    "data.head()"
   ]
  },
  {
   "cell_type": "code",
   "execution_count": 11,
   "metadata": {},
   "outputs": [
    {
     "data": {
      "text/html": [
       "<div>\n",
       "<style scoped>\n",
       "    .dataframe tbody tr th:only-of-type {\n",
       "        vertical-align: middle;\n",
       "    }\n",
       "\n",
       "    .dataframe tbody tr th {\n",
       "        vertical-align: top;\n",
       "    }\n",
       "\n",
       "    .dataframe thead th {\n",
       "        text-align: right;\n",
       "    }\n",
       "</style>\n",
       "<table border=\"1\" class=\"dataframe\">\n",
       "  <thead>\n",
       "    <tr style=\"text-align: right;\">\n",
       "      <th></th>\n",
       "      <th>body</th>\n",
       "      <th>category</th>\n",
       "      <th>id</th>\n",
       "      <th>rating</th>\n",
       "      <th>text_no_punc_lower</th>\n",
       "      <th>words_count</th>\n",
       "    </tr>\n",
       "  </thead>\n",
       "  <tbody>\n",
       "    <tr>\n",
       "      <th>0</th>\n",
       "      <td>A blackjack dealer and a player with a thirtee...</td>\n",
       "      <td>Children</td>\n",
       "      <td>1</td>\n",
       "      <td>2.63</td>\n",
       "      <td>[blackjack, dealer, player, thirteen, count, h...</td>\n",
       "      <td>102</td>\n",
       "    </tr>\n",
       "    <tr>\n",
       "      <th>1</th>\n",
       "      <td>At a dinner party, several of the guests were...</td>\n",
       "      <td>Blonde Jokes</td>\n",
       "      <td>2</td>\n",
       "      <td>2.57</td>\n",
       "      <td>[, dinner, party, several, guests, arguing, wh...</td>\n",
       "      <td>80</td>\n",
       "    </tr>\n",
       "    <tr>\n",
       "      <th>2</th>\n",
       "      <td>One day this cop pulls over a blonde for spee...</td>\n",
       "      <td>Blonde Jokes</td>\n",
       "      <td>3</td>\n",
       "      <td>3.09</td>\n",
       "      <td>[, one, day, cop, pulls, blonde, speeding, cop...</td>\n",
       "      <td>47</td>\n",
       "    </tr>\n",
       "    <tr>\n",
       "      <th>3</th>\n",
       "      <td>Three women are about to be executed for crim...</td>\n",
       "      <td>Blonde Jokes</td>\n",
       "      <td>4</td>\n",
       "      <td>4.10</td>\n",
       "      <td>[, three, women, executed, crimes, ones, brune...</td>\n",
       "      <td>162</td>\n",
       "    </tr>\n",
       "    <tr>\n",
       "      <th>4</th>\n",
       "      <td>A girl came skipping home FROM school one day...</td>\n",
       "      <td>Blonde Jokes</td>\n",
       "      <td>5</td>\n",
       "      <td>4.30</td>\n",
       "      <td>[, girl, came, skipping, home, school, one, da...</td>\n",
       "      <td>185</td>\n",
       "    </tr>\n",
       "  </tbody>\n",
       "</table>\n",
       "</div>"
      ],
      "text/plain": [
       "                                                body      category  id  \\\n",
       "0  A blackjack dealer and a player with a thirtee...      Children   1   \n",
       "1   At a dinner party, several of the guests were...  Blonde Jokes   2   \n",
       "2   One day this cop pulls over a blonde for spee...  Blonde Jokes   3   \n",
       "3   Three women are about to be executed for crim...  Blonde Jokes   4   \n",
       "4   A girl came skipping home FROM school one day...  Blonde Jokes   5   \n",
       "\n",
       "   rating                                 text_no_punc_lower  words_count  \n",
       "0    2.63  [blackjack, dealer, player, thirteen, count, h...          102  \n",
       "1    2.57  [, dinner, party, several, guests, arguing, wh...           80  \n",
       "2    3.09  [, one, day, cop, pulls, blonde, speeding, cop...           47  \n",
       "3    4.10  [, three, women, executed, crimes, ones, brune...          162  \n",
       "4    4.30  [, girl, came, skipping, home, school, one, da...          185  "
      ]
     },
     "execution_count": 11,
     "metadata": {},
     "output_type": "execute_result"
    }
   ],
   "source": [
    "def words_counter(text):\n",
    "    return len(text.split())\n",
    "\n",
    "data['words_count'] = data['body'].apply(words_counter)\n",
    "data.head()"
   ]
  },
  {
   "cell_type": "code",
   "execution_count": 21,
   "metadata": {},
   "outputs": [],
   "source": [
    "from matplotlib import pyplot as pp\n",
    "import numpy as np\n",
    "%matplotlib inline"
   ]
  },
  {
   "cell_type": "code",
   "execution_count": 22,
   "metadata": {},
   "outputs": [
    {
     "data": {
      "image/png": "[encoded data removed]",
      "text/plain": [
       "<Figure size 432x288 with 1 Axes>"
      ]
     },
     "metadata": {
      "needs_background": "light"
     },
     "output_type": "display_data"
    }
   ],
   "source": [
    "bins = np.linspace(0,50,40) #y amount of samples, x len of each\n",
    "pp.hist(data['body_len'], bins)\n",
    "pp.show()"
   ]
  },
  {
   "cell_type": "code",
   "execution_count": 24,
   "metadata": {},
   "outputs": [
    {
     "data": {
      "image/png": "[encoded data removed]",
      "text/plain": [
       "<Figure size 432x288 with 1 Axes>"
      ]
     },
     "metadata": {
      "needs_background": "light"
     },
     "output_type": "display_data"
    },
    {
     "data": {
      "image/png": "[encoded data removed]",
      "text/plain": [
       "<Figure size 432x288 with 1 Axes>"
      ]
     },
     "metadata": {
      "needs_background": "light"
     },
     "output_type": "display_data"
    },
    {
     "data": {
      "image/png": "[encoded data removed]",
      "text/plain": [
       "<Figure size 432x288 with 1 Axes>"
      ]
     },
     "metadata": {
      "needs_background": "light"
     },
     "output_type": "display_data"
    }
   ],
   "source": [
    "for i in [1,2,3]:\n",
    "    bins = np.linspace(0,50/(i**i),40)\n",
    "    pp.hist((data[data['label'] == 'Valid']['body_len'])**(1/i), bins, label = 'VALID', alpha = 0.5)\n",
    "    pp.hist((data[data['label'] == 'Spam']['body_len'])**(1/i), bins, label = 'SPAM', alpha = 0.5)\n",
    "    pp.legend(loc='upper left')\n",
    "    pp.title('transformation 1/{}'.format(str(i)))\n",
    "    pp.show()"
   ]
  },
  {
   "cell_type": "code",
   "execution_count": 25,
   "metadata": {},
   "outputs": [
    {
     "data": {
      "text/html": [
       "<div>\n",
       "<style scoped>\n",
       "    .dataframe tbody tr th:only-of-type {\n",
       "        vertical-align: middle;\n",
       "    }\n",
       "\n",
       "    .dataframe tbody tr th {\n",
       "        vertical-align: top;\n",
       "    }\n",
       "\n",
       "    .dataframe thead th {\n",
       "        text-align: right;\n",
       "    }\n",
       "</style>\n",
       "<table border=\"1\" class=\"dataframe\">\n",
       "  <thead>\n",
       "    <tr style=\"text-align: right;\">\n",
       "      <th></th>\n",
       "      <th>label</th>\n",
       "      <th>body_text</th>\n",
       "      <th>body_len</th>\n",
       "    </tr>\n",
       "  </thead>\n",
       "  <tbody>\n",
       "    <tr>\n",
       "      <th>0</th>\n",
       "      <td>Spam</td>\n",
       "      <td>[free, entry, 2, wkly, comp, win, fa, cup, fin...</td>\n",
       "      <td>23</td>\n",
       "    </tr>\n",
       "    <tr>\n",
       "      <th>1</th>\n",
       "      <td>Valid</td>\n",
       "      <td>[nah, dont, think, goes, usf, lives, around, t...</td>\n",
       "      <td>8</td>\n",
       "    </tr>\n",
       "    <tr>\n",
       "      <th>2</th>\n",
       "      <td>Valid</td>\n",
       "      <td>[even, brother, like, speak, treat, like, aids...</td>\n",
       "      <td>8</td>\n",
       "    </tr>\n",
       "    <tr>\n",
       "      <th>3</th>\n",
       "      <td>Valid</td>\n",
       "      <td>[date, sunday]</td>\n",
       "      <td>2</td>\n",
       "    </tr>\n",
       "    <tr>\n",
       "      <th>4</th>\n",
       "      <td>Valid</td>\n",
       "      <td>[per, request, melle, melle, oru, minnaminungi...</td>\n",
       "      <td>16</td>\n",
       "    </tr>\n",
       "  </tbody>\n",
       "</table>\n",
       "</div>"
      ],
      "text/plain": [
       "   label                                          body_text  body_len\n",
       "0   Spam  [free, entry, 2, wkly, comp, win, fa, cup, fin...        23\n",
       "1  Valid  [nah, dont, think, goes, usf, lives, around, t...         8\n",
       "2  Valid  [even, brother, like, speak, treat, like, aids...         8\n",
       "3  Valid                                     [date, sunday]         2\n",
       "4  Valid  [per, request, melle, melle, oru, minnaminungi...        16"
      ]
     },
     "execution_count": 25,
     "metadata": {},
     "output_type": "execute_result"
    }
   ],
   "source": [
    "data.head()"
   ]
  },
  {
   "cell_type": "code",
   "execution_count": 32,
   "metadata": {},
   "outputs": [
    {
     "data": {
      "text/html": [
       "<div>\n",
       "<style scoped>\n",
       "    .dataframe tbody tr th:only-of-type {\n",
       "        vertical-align: middle;\n",
       "    }\n",
       "\n",
       "    .dataframe tbody tr th {\n",
       "        vertical-align: top;\n",
       "    }\n",
       "\n",
       "    .dataframe thead th {\n",
       "        text-align: right;\n",
       "    }\n",
       "</style>\n",
       "<table border=\"1\" class=\"dataframe\">\n",
       "  <thead>\n",
       "    <tr style=\"text-align: right;\">\n",
       "      <th></th>\n",
       "      <th>body_len</th>\n",
       "      <th>0</th>\n",
       "      <th>1</th>\n",
       "      <th>2</th>\n",
       "      <th>3</th>\n",
       "      <th>4</th>\n",
       "      <th>5</th>\n",
       "      <th>6</th>\n",
       "      <th>7</th>\n",
       "      <th>8</th>\n",
       "      <th>...</th>\n",
       "      <th>8094</th>\n",
       "      <th>8095</th>\n",
       "      <th>8096</th>\n",
       "      <th>8097</th>\n",
       "      <th>8098</th>\n",
       "      <th>8099</th>\n",
       "      <th>8100</th>\n",
       "      <th>8101</th>\n",
       "      <th>8102</th>\n",
       "      <th>8103</th>\n",
       "    </tr>\n",
       "  </thead>\n",
       "  <tbody>\n",
       "    <tr>\n",
       "      <th>0</th>\n",
       "      <td>23</td>\n",
       "      <td>0</td>\n",
       "      <td>0</td>\n",
       "      <td>0</td>\n",
       "      <td>0</td>\n",
       "      <td>0</td>\n",
       "      <td>0</td>\n",
       "      <td>0</td>\n",
       "      <td>0</td>\n",
       "      <td>0</td>\n",
       "      <td>...</td>\n",
       "      <td>0</td>\n",
       "      <td>0</td>\n",
       "      <td>0</td>\n",
       "      <td>0</td>\n",
       "      <td>0</td>\n",
       "      <td>0</td>\n",
       "      <td>0</td>\n",
       "      <td>0</td>\n",
       "      <td>0</td>\n",
       "      <td>0</td>\n",
       "    </tr>\n",
       "    <tr>\n",
       "      <th>1</th>\n",
       "      <td>8</td>\n",
       "      <td>0</td>\n",
       "      <td>0</td>\n",
       "      <td>0</td>\n",
       "      <td>0</td>\n",
       "      <td>0</td>\n",
       "      <td>0</td>\n",
       "      <td>0</td>\n",
       "      <td>0</td>\n",
       "      <td>0</td>\n",
       "      <td>...</td>\n",
       "      <td>0</td>\n",
       "      <td>0</td>\n",
       "      <td>0</td>\n",
       "      <td>0</td>\n",
       "      <td>0</td>\n",
       "      <td>0</td>\n",
       "      <td>0</td>\n",
       "      <td>0</td>\n",
       "      <td>0</td>\n",
       "      <td>0</td>\n",
       "    </tr>\n",
       "    <tr>\n",
       "      <th>2</th>\n",
       "      <td>8</td>\n",
       "      <td>0</td>\n",
       "      <td>0</td>\n",
       "      <td>0</td>\n",
       "      <td>0</td>\n",
       "      <td>0</td>\n",
       "      <td>0</td>\n",
       "      <td>0</td>\n",
       "      <td>0</td>\n",
       "      <td>0</td>\n",
       "      <td>...</td>\n",
       "      <td>0</td>\n",
       "      <td>0</td>\n",
       "      <td>0</td>\n",
       "      <td>0</td>\n",
       "      <td>0</td>\n",
       "      <td>0</td>\n",
       "      <td>0</td>\n",
       "      <td>0</td>\n",
       "      <td>0</td>\n",
       "      <td>0</td>\n",
       "    </tr>\n",
       "    <tr>\n",
       "      <th>3</th>\n",
       "      <td>2</td>\n",
       "      <td>0</td>\n",
       "      <td>0</td>\n",
       "      <td>0</td>\n",
       "      <td>0</td>\n",
       "      <td>0</td>\n",
       "      <td>0</td>\n",
       "      <td>0</td>\n",
       "      <td>0</td>\n",
       "      <td>0</td>\n",
       "      <td>...</td>\n",
       "      <td>0</td>\n",
       "      <td>0</td>\n",
       "      <td>0</td>\n",
       "      <td>0</td>\n",
       "      <td>0</td>\n",
       "      <td>0</td>\n",
       "      <td>0</td>\n",
       "      <td>0</td>\n",
       "      <td>0</td>\n",
       "      <td>0</td>\n",
       "    </tr>\n",
       "    <tr>\n",
       "      <th>4</th>\n",
       "      <td>16</td>\n",
       "      <td>0</td>\n",
       "      <td>0</td>\n",
       "      <td>0</td>\n",
       "      <td>0</td>\n",
       "      <td>0</td>\n",
       "      <td>0</td>\n",
       "      <td>0</td>\n",
       "      <td>0</td>\n",
       "      <td>0</td>\n",
       "      <td>...</td>\n",
       "      <td>0</td>\n",
       "      <td>0</td>\n",
       "      <td>0</td>\n",
       "      <td>0</td>\n",
       "      <td>0</td>\n",
       "      <td>0</td>\n",
       "      <td>0</td>\n",
       "      <td>0</td>\n",
       "      <td>0</td>\n",
       "      <td>0</td>\n",
       "    </tr>\n",
       "  </tbody>\n",
       "</table>\n",
       "<p>5 rows × 8105 columns</p>\n",
       "</div>"
      ],
      "text/plain": [
       "   body_len  0  1  2  3  4  5  6  7  8  ...   8094  8095  8096  8097  8098  \\\n",
       "0        23  0  0  0  0  0  0  0  0  0  ...      0     0     0     0     0   \n",
       "1         8  0  0  0  0  0  0  0  0  0  ...      0     0     0     0     0   \n",
       "2         8  0  0  0  0  0  0  0  0  0  ...      0     0     0     0     0   \n",
       "3         2  0  0  0  0  0  0  0  0  0  ...      0     0     0     0     0   \n",
       "4        16  0  0  0  0  0  0  0  0  0  ...      0     0     0     0     0   \n",
       "\n",
       "   8099  8100  8101  8102  8103  \n",
       "0     0     0     0     0     0  \n",
       "1     0     0     0     0     0  \n",
       "2     0     0     0     0     0  \n",
       "3     0     0     0     0     0  \n",
       "4     0     0     0     0     0  \n",
       "\n",
       "[5 rows x 8105 columns]"
      ]
     },
     "execution_count": 32,
     "metadata": {},
     "output_type": "execute_result"
    }
   ],
   "source": [
    "def trf_text(text):\n",
    "    text = [ps.stem(word) for word in text if word not in stopwords]\n",
    "    return text\n",
    "\n",
    "tfidf_vect = CountVectorizer(analyzer=trf_text)\n",
    "X_tfidf = tfidf_vect.fit_transform(data['body_text'])\n",
    "\n",
    "X_features = pd.concat([data['body_len'], pd.DataFrame(X_tfidf.toarray())], axis=1)\n",
    "X_features.head()"
   ]
  },
  {
   "cell_type": "markdown",
   "metadata": {},
   "source": [
    "### ML TIME!"
   ]
  },
  {
   "cell_type": "code",
   "execution_count": 33,
   "metadata": {},
   "outputs": [],
   "source": [
    "from sklearn.ensemble import RandomForestClassifier\n",
    "from sklearn.metrics import precision_recall_fscore_support as score\n",
    "from sklearn.model_selection import train_test_split"
   ]
  },
  {
   "cell_type": "code",
   "execution_count": 34,
   "metadata": {},
   "outputs": [],
   "source": [
    "X_train, X_test, y_train, y_test = train_test_split(X_features, data['label'], test_size=0.2)"
   ]
  },
  {
   "cell_type": "code",
   "execution_count": 39,
   "metadata": {},
   "outputs": [],
   "source": [
    "def train_RF(n_est, depth):\n",
    "    rf = RandomForestClassifier(n_estimators=n_est, max_depth=depth, n_jobs=-1)\n",
    "    rf_model = rf.fit(X_train, y_train)\n",
    "    y_pred = rf_model.predict(X_test)\n",
    "    precision, recall, fscore, support = score(y_test, y_pred, pos_label='Spam', average='binary')\n",
    "    print('Est: {} / Depth: {} ---- Precision: {} / Recall: {}'.format(\n",
    "        n_est, depth, round(precision, 3), round(recall, 3)))"
   ]
  },
  {
   "cell_type": "code",
   "execution_count": 40,
   "metadata": {},
   "outputs": [
    {
     "name": "stdout",
     "output_type": "stream",
     "text": [
      "Est: 10 / Depth: 10 ---- Precision: 1.0 / Recall: 0.124\n",
      "Est: 10 / Depth: 20 ---- Precision: 1.0 / Recall: 0.545\n",
      "Est: 10 / Depth: 30 ---- Precision: 1.0 / Recall: 0.717\n",
      "Est: 10 / Depth: None ---- Precision: 0.976 / Recall: 0.841\n",
      "Est: 50 / Depth: 10 ---- Precision: 1.0 / Recall: 0.186\n",
      "Est: 50 / Depth: 20 ---- Precision: 1.0 / Recall: 0.51\n",
      "Est: 50 / Depth: 30 ---- Precision: 1.0 / Recall: 0.697\n",
      "Est: 50 / Depth: None ---- Precision: 1.0 / Recall: 0.821\n",
      "Est: 100 / Depth: 10 ---- Precision: 1.0 / Recall: 0.186\n",
      "Est: 100 / Depth: 20 ---- Precision: 1.0 / Recall: 0.559\n",
      "Est: 100 / Depth: 30 ---- Precision: 1.0 / Recall: 0.703\n",
      "Est: 100 / Depth: None ---- Precision: 0.983 / Recall: 0.821\n"
     ]
    }
   ],
   "source": [
    "for n_est in [10, 50, 100]:\n",
    "    for depth in [10, 20, 30, None]:\n",
    "        train_RF(n_est, depth)"
   ]
  },
  {
   "cell_type": "markdown",
   "metadata": {
    "collapsed": true
   },
   "source": [
    "Precision: 1.0 all tagged as 'Spam' is actually 'Spam'\n",
    "Recall: out of the 'Spam' we had, how many we found!\n",
    "\n",
    "Higher is better :)"
   ]
  }
 ],
 "metadata": {
  "kernelspec": {
   "display_name": "Python 3",
   "language": "python",
   "name": "python3"
  },
  "language_info": {
   "codemirror_mode": {
    "name": "ipython",
    "version": 3
   },
   "file_extension": ".py",
   "mimetype": "text/x-python",
   "name": "python",
   "nbconvert_exporter": "python",
   "pygments_lexer": "ipython3",
   "version": "3.7.3"
  }
 },
 "nbformat": 4,
 "nbformat_minor": 2
}
